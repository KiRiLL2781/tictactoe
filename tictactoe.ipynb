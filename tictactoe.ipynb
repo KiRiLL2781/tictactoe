{
 "cells": [
  {
   "cell_type": "code",
   "execution_count": 1,
   "id": "8c3eb1c5-ceb5-461a-9082-4646bc25d19c",
   "metadata": {},
   "outputs": [
    {
     "name": "stdout",
     "output_type": "stream",
     "text": [
      "  |   |  \n",
      "---------\n",
      "  |   |  \n",
      "---------\n",
      "  |   |  \n",
      "---------\n"
     ]
    }
   ],
   "source": [
    "def print_board(board):\n",
    "    for row in board:\n",
    "        print(f\"{row[0]} | {row[1]} | {row[2]}\")\n",
    "        print(\"-\" * 9)"
   ]
  },
  {
   "cell_type": "code",
   "execution_count": 2,
   "id": "50df547e-bd28-4f08-b278-f4ade1590937",
   "metadata": {},
   "outputs": [
    {
     "name": "stdin",
     "output_type": "stream",
     "text": [
      "введите ряд 1\n",
      "введите колонку 1\n",
      "введите игрока  x\n"
     ]
    },
    {
     "name": "stdout",
     "output_type": "stream",
     "text": [
      "  |   |  \n",
      "---------\n",
      "  | x |  \n",
      "---------\n",
      "  |   |  \n",
      "---------\n"
     ]
    }
   ],
   "source": [
    "def play():\n",
    "    isruning=True\n",
    "    player=('X')\n",
    "    board = [[' ' for a in range(3)] for k in range(3)]\n",
    "    while isruning:\n",
    "        row=int(input('введите ряд'))\n",
    "        col=int(input('введите колонку'))\n",
    "        \n",
    "        turn(row,col,player,board)\n",
    "        if player==('X'):\n",
    "            player=('O')\n",
    "        else:\n",
    "            player=('X')\n",
    "def turn(row,col,player,board):\n",
    "    board[row][col]= player\n",
    "    print_board(board)\n",
    "play()"
   ]
  },
  {
   "cell_type": "code",
   "execution_count": null,
   "id": "5df9c2ff-21a8-47f9-acb5-127af078a820",
   "metadata": {},
   "outputs": [],
   "source": []
  }
 ],
 "metadata": {
  "kernelspec": {
   "display_name": "Python 3 (ipykernel)",
   "language": "python",
   "name": "python3"
  },
  "language_info": {
   "codemirror_mode": {
    "name": "ipython",
    "version": 3
   },
   "file_extension": ".py",
   "mimetype": "text/x-python",
   "name": "python",
   "nbconvert_exporter": "python",
   "pygments_lexer": "ipython3",
   "version": "3.12.1"
  }
 },
 "nbformat": 4,
 "nbformat_minor": 5
}
